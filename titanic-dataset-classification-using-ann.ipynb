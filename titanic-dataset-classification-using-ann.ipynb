{
 "cells": [
  {
   "cell_type": "code",
   "execution_count": 1,
   "id": "8db526bd",
   "metadata": {
    "execution": {
     "iopub.execute_input": "2023-02-20T12:07:30.809248Z",
     "iopub.status.busy": "2023-02-20T12:07:30.807812Z",
     "iopub.status.idle": "2023-02-20T12:07:30.820950Z",
     "shell.execute_reply": "2023-02-20T12:07:30.820160Z"
    },
    "papermill": {
     "duration": 0.030344,
     "end_time": "2023-02-20T12:07:30.823388",
     "exception": false,
     "start_time": "2023-02-20T12:07:30.793044",
     "status": "completed"
    },
    "tags": []
   },
   "outputs": [],
   "source": [
    "import pandas as pd\n",
    "import numpy as np\n",
    "import matplotlib.pyplot as plt"
   ]
  },
  {
   "cell_type": "code",
   "execution_count": 2,
   "id": "7a04e9fc",
   "metadata": {
    "execution": {
     "iopub.execute_input": "2023-02-20T12:07:30.845913Z",
     "iopub.status.busy": "2023-02-20T12:07:30.845108Z",
     "iopub.status.idle": "2023-02-20T12:07:30.880063Z",
     "shell.execute_reply": "2023-02-20T12:07:30.879217Z"
    },
    "papermill": {
     "duration": 0.04911,
     "end_time": "2023-02-20T12:07:30.882759",
     "exception": false,
     "start_time": "2023-02-20T12:07:30.833649",
     "status": "completed"
    },
    "tags": []
   },
   "outputs": [],
   "source": [
    "df_train=pd.read_csv(\"/kaggle/input/titanic/train.csv\")\n",
    "df_test1=pd.read_csv(\"/kaggle/input/titanic/test.csv\")"
   ]
  },
  {
   "cell_type": "code",
   "execution_count": 3,
   "id": "a74a0856",
   "metadata": {
    "execution": {
     "iopub.execute_input": "2023-02-20T12:07:30.905173Z",
     "iopub.status.busy": "2023-02-20T12:07:30.904359Z",
     "iopub.status.idle": "2023-02-20T12:07:30.934061Z",
     "shell.execute_reply": "2023-02-20T12:07:30.933234Z"
    },
    "papermill": {
     "duration": 0.04369,
     "end_time": "2023-02-20T12:07:30.936590",
     "exception": false,
     "start_time": "2023-02-20T12:07:30.892900",
     "status": "completed"
    },
    "tags": []
   },
   "outputs": [
    {
     "data": {
      "text/html": [
       "<div>\n",
       "<style scoped>\n",
       "    .dataframe tbody tr th:only-of-type {\n",
       "        vertical-align: middle;\n",
       "    }\n",
       "\n",
       "    .dataframe tbody tr th {\n",
       "        vertical-align: top;\n",
       "    }\n",
       "\n",
       "    .dataframe thead th {\n",
       "        text-align: right;\n",
       "    }\n",
       "</style>\n",
       "<table border=\"1\" class=\"dataframe\">\n",
       "  <thead>\n",
       "    <tr style=\"text-align: right;\">\n",
       "      <th></th>\n",
       "      <th>PassengerId</th>\n",
       "      <th>Survived</th>\n",
       "      <th>Pclass</th>\n",
       "      <th>Name</th>\n",
       "      <th>Sex</th>\n",
       "      <th>Age</th>\n",
       "      <th>SibSp</th>\n",
       "      <th>Parch</th>\n",
       "      <th>Ticket</th>\n",
       "      <th>Fare</th>\n",
       "      <th>Cabin</th>\n",
       "      <th>Embarked</th>\n",
       "    </tr>\n",
       "  </thead>\n",
       "  <tbody>\n",
       "    <tr>\n",
       "      <th>0</th>\n",
       "      <td>1</td>\n",
       "      <td>0</td>\n",
       "      <td>3</td>\n",
       "      <td>Braund, Mr. Owen Harris</td>\n",
       "      <td>male</td>\n",
       "      <td>22.0</td>\n",
       "      <td>1</td>\n",
       "      <td>0</td>\n",
       "      <td>A/5 21171</td>\n",
       "      <td>7.2500</td>\n",
       "      <td>NaN</td>\n",
       "      <td>S</td>\n",
       "    </tr>\n",
       "    <tr>\n",
       "      <th>1</th>\n",
       "      <td>2</td>\n",
       "      <td>1</td>\n",
       "      <td>1</td>\n",
       "      <td>Cumings, Mrs. John Bradley (Florence Briggs Th...</td>\n",
       "      <td>female</td>\n",
       "      <td>38.0</td>\n",
       "      <td>1</td>\n",
       "      <td>0</td>\n",
       "      <td>PC 17599</td>\n",
       "      <td>71.2833</td>\n",
       "      <td>C85</td>\n",
       "      <td>C</td>\n",
       "    </tr>\n",
       "    <tr>\n",
       "      <th>2</th>\n",
       "      <td>3</td>\n",
       "      <td>1</td>\n",
       "      <td>3</td>\n",
       "      <td>Heikkinen, Miss. Laina</td>\n",
       "      <td>female</td>\n",
       "      <td>26.0</td>\n",
       "      <td>0</td>\n",
       "      <td>0</td>\n",
       "      <td>STON/O2. 3101282</td>\n",
       "      <td>7.9250</td>\n",
       "      <td>NaN</td>\n",
       "      <td>S</td>\n",
       "    </tr>\n",
       "    <tr>\n",
       "      <th>3</th>\n",
       "      <td>4</td>\n",
       "      <td>1</td>\n",
       "      <td>1</td>\n",
       "      <td>Futrelle, Mrs. Jacques Heath (Lily May Peel)</td>\n",
       "      <td>female</td>\n",
       "      <td>35.0</td>\n",
       "      <td>1</td>\n",
       "      <td>0</td>\n",
       "      <td>113803</td>\n",
       "      <td>53.1000</td>\n",
       "      <td>C123</td>\n",
       "      <td>S</td>\n",
       "    </tr>\n",
       "    <tr>\n",
       "      <th>4</th>\n",
       "      <td>5</td>\n",
       "      <td>0</td>\n",
       "      <td>3</td>\n",
       "      <td>Allen, Mr. William Henry</td>\n",
       "      <td>male</td>\n",
       "      <td>35.0</td>\n",
       "      <td>0</td>\n",
       "      <td>0</td>\n",
       "      <td>373450</td>\n",
       "      <td>8.0500</td>\n",
       "      <td>NaN</td>\n",
       "      <td>S</td>\n",
       "    </tr>\n",
       "  </tbody>\n",
       "</table>\n",
       "</div>"
      ],
      "text/plain": [
       "   PassengerId  Survived  Pclass  \\\n",
       "0            1         0       3   \n",
       "1            2         1       1   \n",
       "2            3         1       3   \n",
       "3            4         1       1   \n",
       "4            5         0       3   \n",
       "\n",
       "                                                Name     Sex   Age  SibSp  \\\n",
       "0                            Braund, Mr. Owen Harris    male  22.0      1   \n",
       "1  Cumings, Mrs. John Bradley (Florence Briggs Th...  female  38.0      1   \n",
       "2                             Heikkinen, Miss. Laina  female  26.0      0   \n",
       "3       Futrelle, Mrs. Jacques Heath (Lily May Peel)  female  35.0      1   \n",
       "4                           Allen, Mr. William Henry    male  35.0      0   \n",
       "\n",
       "   Parch            Ticket     Fare Cabin Embarked  \n",
       "0      0         A/5 21171   7.2500   NaN        S  \n",
       "1      0          PC 17599  71.2833   C85        C  \n",
       "2      0  STON/O2. 3101282   7.9250   NaN        S  \n",
       "3      0            113803  53.1000  C123        S  \n",
       "4      0            373450   8.0500   NaN        S  "
      ]
     },
     "execution_count": 3,
     "metadata": {},
     "output_type": "execute_result"
    }
   ],
   "source": [
    "df_train.head()"
   ]
  },
  {
   "cell_type": "code",
   "execution_count": 4,
   "id": "9b1389ee",
   "metadata": {
    "execution": {
     "iopub.execute_input": "2023-02-20T12:07:30.958675Z",
     "iopub.status.busy": "2023-02-20T12:07:30.958299Z",
     "iopub.status.idle": "2023-02-20T12:07:31.228610Z",
     "shell.execute_reply": "2023-02-20T12:07:31.227513Z"
    },
    "papermill": {
     "duration": 0.284246,
     "end_time": "2023-02-20T12:07:31.231314",
     "exception": false,
     "start_time": "2023-02-20T12:07:30.947068",
     "status": "completed"
    },
    "tags": []
   },
   "outputs": [
    {
     "data": {
      "text/plain": [
       "Text(0, 0.5, 'Frequency')"
      ]
     },
     "execution_count": 4,
     "metadata": {},
     "output_type": "execute_result"
    },
    {
     "data": {
      "image/png": "[encoded data removed]",
      "text/plain": [
       "<Figure size 640x480 with 1 Axes>"
      ]
     },
     "metadata": {},
     "output_type": "display_data"
    }
   ],
   "source": [
    "count_classes = pd.value_counts(df_train['Survived'], sort = True).sort_index()\n",
    "count_classes.plot(kind = 'bar')\n",
    "plt.title(\"Fraud class histogram\")\n",
    "plt.xlabel(\"Survived\")\n",
    "plt.ylabel(\"Frequency\")"
   ]
  },
  {
   "cell_type": "code",
   "execution_count": 5,
   "id": "3423b0c7",
   "metadata": {
    "execution": {
     "iopub.execute_input": "2023-02-20T12:07:31.254260Z",
     "iopub.status.busy": "2023-02-20T12:07:31.253851Z",
     "iopub.status.idle": "2023-02-20T12:07:31.473884Z",
     "shell.execute_reply": "2023-02-20T12:07:31.472673Z"
    },
    "papermill": {
     "duration": 0.234524,
     "end_time": "2023-02-20T12:07:31.476451",
     "exception": false,
     "start_time": "2023-02-20T12:07:31.241927",
     "status": "completed"
    },
    "tags": []
   },
   "outputs": [
    {
     "data": {
      "text/plain": [
       "Text(0, 0.5, 'Frequency')"
      ]
     },
     "execution_count": 5,
     "metadata": {},
     "output_type": "execute_result"
    },
    {
     "data": {
      "image/png": "[encoded data removed]",
      "text/plain": [
       "<Figure size 640x480 with 1 Axes>"
      ]
     },
     "metadata": {},
     "output_type": "display_data"
    }
   ],
   "source": [
    "count_classes = pd.value_counts(df_train['Sex'], sort = True).sort_index()\n",
    "count_classes.plot(kind = 'bar')\n",
    "plt.title(\"Gender Distribution histogram\")\n",
    "plt.xlabel(\"Sex\")\n",
    "plt.ylabel(\"Frequency\")"
   ]
  },
  {
   "cell_type": "code",
   "execution_count": 6,
   "id": "fd4ccf3c",
   "metadata": {
    "execution": {
     "iopub.execute_input": "2023-02-20T12:07:31.500656Z",
     "iopub.status.busy": "2023-02-20T12:07:31.500248Z",
     "iopub.status.idle": "2023-02-20T12:07:31.507060Z",
     "shell.execute_reply": "2023-02-20T12:07:31.505957Z"
    },
    "papermill": {
     "duration": 0.021872,
     "end_time": "2023-02-20T12:07:31.509534",
     "exception": false,
     "start_time": "2023-02-20T12:07:31.487662",
     "status": "completed"
    },
    "tags": []
   },
   "outputs": [],
   "source": [
    "df_train['test']=0\n",
    "df_test1['test']=1"
   ]
  },
  {
   "cell_type": "code",
   "execution_count": 7,
   "id": "7dafab84",
   "metadata": {
    "execution": {
     "iopub.execute_input": "2023-02-20T12:07:31.533873Z",
     "iopub.status.busy": "2023-02-20T12:07:31.532817Z",
     "iopub.status.idle": "2023-02-20T12:07:31.542945Z",
     "shell.execute_reply": "2023-02-20T12:07:31.541597Z"
    },
    "papermill": {
     "duration": 0.025116,
     "end_time": "2023-02-20T12:07:31.545679",
     "exception": false,
     "start_time": "2023-02-20T12:07:31.520563",
     "status": "completed"
    },
    "tags": []
   },
   "outputs": [],
   "source": [
    "df=pd.concat([df_train,df_test1])"
   ]
  },
  {
   "cell_type": "code",
   "execution_count": 8,
   "id": "f5b1946c",
   "metadata": {
    "execution": {
     "iopub.execute_input": "2023-02-20T12:07:31.569580Z",
     "iopub.status.busy": "2023-02-20T12:07:31.569086Z",
     "iopub.status.idle": "2023-02-20T12:07:31.587887Z",
     "shell.execute_reply": "2023-02-20T12:07:31.587094Z"
    },
    "papermill": {
     "duration": 0.033439,
     "end_time": "2023-02-20T12:07:31.590141",
     "exception": false,
     "start_time": "2023-02-20T12:07:31.556702",
     "status": "completed"
    },
    "tags": []
   },
   "outputs": [
    {
     "data": {
      "text/html": [
       "<div>\n",
       "<style scoped>\n",
       "    .dataframe tbody tr th:only-of-type {\n",
       "        vertical-align: middle;\n",
       "    }\n",
       "\n",
       "    .dataframe tbody tr th {\n",
       "        vertical-align: top;\n",
       "    }\n",
       "\n",
       "    .dataframe thead th {\n",
       "        text-align: right;\n",
       "    }\n",
       "</style>\n",
       "<table border=\"1\" class=\"dataframe\">\n",
       "  <thead>\n",
       "    <tr style=\"text-align: right;\">\n",
       "      <th></th>\n",
       "      <th>PassengerId</th>\n",
       "      <th>Survived</th>\n",
       "      <th>Pclass</th>\n",
       "      <th>Name</th>\n",
       "      <th>Sex</th>\n",
       "      <th>Age</th>\n",
       "      <th>SibSp</th>\n",
       "      <th>Parch</th>\n",
       "      <th>Ticket</th>\n",
       "      <th>Fare</th>\n",
       "      <th>Cabin</th>\n",
       "      <th>Embarked</th>\n",
       "      <th>test</th>\n",
       "    </tr>\n",
       "  </thead>\n",
       "  <tbody>\n",
       "    <tr>\n",
       "      <th>0</th>\n",
       "      <td>1</td>\n",
       "      <td>0.0</td>\n",
       "      <td>3</td>\n",
       "      <td>Braund, Mr. Owen Harris</td>\n",
       "      <td>male</td>\n",
       "      <td>22.0</td>\n",
       "      <td>1</td>\n",
       "      <td>0</td>\n",
       "      <td>A/5 21171</td>\n",
       "      <td>7.2500</td>\n",
       "      <td>NaN</td>\n",
       "      <td>S</td>\n",
       "      <td>0</td>\n",
       "    </tr>\n",
       "    <tr>\n",
       "      <th>1</th>\n",
       "      <td>2</td>\n",
       "      <td>1.0</td>\n",
       "      <td>1</td>\n",
       "      <td>Cumings, Mrs. John Bradley (Florence Briggs Th...</td>\n",
       "      <td>female</td>\n",
       "      <td>38.0</td>\n",
       "      <td>1</td>\n",
       "      <td>0</td>\n",
       "      <td>PC 17599</td>\n",
       "      <td>71.2833</td>\n",
       "      <td>C85</td>\n",
       "      <td>C</td>\n",
       "      <td>0</td>\n",
       "    </tr>\n",
       "    <tr>\n",
       "      <th>2</th>\n",
       "      <td>3</td>\n",
       "      <td>1.0</td>\n",
       "      <td>3</td>\n",
       "      <td>Heikkinen, Miss. Laina</td>\n",
       "      <td>female</td>\n",
       "      <td>26.0</td>\n",
       "      <td>0</td>\n",
       "      <td>0</td>\n",
       "      <td>STON/O2. 3101282</td>\n",
       "      <td>7.9250</td>\n",
       "      <td>NaN</td>\n",
       "      <td>S</td>\n",
       "      <td>0</td>\n",
       "    </tr>\n",
       "    <tr>\n",
       "      <th>3</th>\n",
       "      <td>4</td>\n",
       "      <td>1.0</td>\n",
       "      <td>1</td>\n",
       "      <td>Futrelle, Mrs. Jacques Heath (Lily May Peel)</td>\n",
       "      <td>female</td>\n",
       "      <td>35.0</td>\n",
       "      <td>1</td>\n",
       "      <td>0</td>\n",
       "      <td>113803</td>\n",
       "      <td>53.1000</td>\n",
       "      <td>C123</td>\n",
       "      <td>S</td>\n",
       "      <td>0</td>\n",
       "    </tr>\n",
       "    <tr>\n",
       "      <th>4</th>\n",
       "      <td>5</td>\n",
       "      <td>0.0</td>\n",
       "      <td>3</td>\n",
       "      <td>Allen, Mr. William Henry</td>\n",
       "      <td>male</td>\n",
       "      <td>35.0</td>\n",
       "      <td>0</td>\n",
       "      <td>0</td>\n",
       "      <td>373450</td>\n",
       "      <td>8.0500</td>\n",
       "      <td>NaN</td>\n",
       "      <td>S</td>\n",
       "      <td>0</td>\n",
       "    </tr>\n",
       "  </tbody>\n",
       "</table>\n",
       "</div>"
      ],
      "text/plain": [
       "   PassengerId  Survived  Pclass  \\\n",
       "0            1       0.0       3   \n",
       "1            2       1.0       1   \n",
       "2            3       1.0       3   \n",
       "3            4       1.0       1   \n",
       "4            5       0.0       3   \n",
       "\n",
       "                                                Name     Sex   Age  SibSp  \\\n",
       "0                            Braund, Mr. Owen Harris    male  22.0      1   \n",
       "1  Cumings, Mrs. John Bradley (Florence Briggs Th...  female  38.0      1   \n",
       "2                             Heikkinen, Miss. Laina  female  26.0      0   \n",
       "3       Futrelle, Mrs. Jacques Heath (Lily May Peel)  female  35.0      1   \n",
       "4                           Allen, Mr. William Henry    male  35.0      0   \n",
       "\n",
       "   Parch            Ticket     Fare Cabin Embarked  test  \n",
       "0      0         A/5 21171   7.2500   NaN        S     0  \n",
       "1      0          PC 17599  71.2833   C85        C     0  \n",
       "2      0  STON/O2. 3101282   7.9250   NaN        S     0  \n",
       "3      0            113803  53.1000  C123        S     0  \n",
       "4      0            373450   8.0500   NaN        S     0  "
      ]
     },
     "execution_count": 8,
     "metadata": {},
     "output_type": "execute_result"
    }
   ],
   "source": [
    "df.head()"
   ]
  },
  {
   "cell_type": "code",
   "execution_count": 9,
   "id": "99b48ab3",
   "metadata": {
    "execution": {
     "iopub.execute_input": "2023-02-20T12:07:31.615982Z",
     "iopub.status.busy": "2023-02-20T12:07:31.614579Z",
     "iopub.status.idle": "2023-02-20T12:07:31.622640Z",
     "shell.execute_reply": "2023-02-20T12:07:31.621472Z"
    },
    "papermill": {
     "duration": 0.023713,
     "end_time": "2023-02-20T12:07:31.625109",
     "exception": false,
     "start_time": "2023-02-20T12:07:31.601396",
     "status": "completed"
    },
    "tags": []
   },
   "outputs": [],
   "source": [
    "df['Deck']=df.Cabin.str[0]"
   ]
  },
  {
   "cell_type": "code",
   "execution_count": 10,
   "id": "49e1cc53",
   "metadata": {
    "execution": {
     "iopub.execute_input": "2023-02-20T12:07:31.650298Z",
     "iopub.status.busy": "2023-02-20T12:07:31.649841Z",
     "iopub.status.idle": "2023-02-20T12:07:31.660167Z",
     "shell.execute_reply": "2023-02-20T12:07:31.659279Z"
    },
    "papermill": {
     "duration": 0.025354,
     "end_time": "2023-02-20T12:07:31.662403",
     "exception": false,
     "start_time": "2023-02-20T12:07:31.637049",
     "status": "completed"
    },
    "tags": []
   },
   "outputs": [
    {
     "data": {
      "text/plain": [
       "B57 B59 B63 B66    3\n",
       "B45                2\n",
       "C89                2\n",
       "C55 C57            2\n",
       "A34                2\n",
       "                  ..\n",
       "E52                1\n",
       "D30                1\n",
       "E31                1\n",
       "C62 C64            1\n",
       "C105               1\n",
       "Name: Cabin, Length: 76, dtype: int64"
      ]
     },
     "execution_count": 10,
     "metadata": {},
     "output_type": "execute_result"
    }
   ],
   "source": [
    "df_test1['Cabin'].value_counts()"
   ]
  },
  {
   "cell_type": "code",
   "execution_count": 11,
   "id": "1314f50b",
   "metadata": {
    "execution": {
     "iopub.execute_input": "2023-02-20T12:07:31.687649Z",
     "iopub.status.busy": "2023-02-20T12:07:31.686880Z",
     "iopub.status.idle": "2023-02-20T12:07:31.705096Z",
     "shell.execute_reply": "2023-02-20T12:07:31.704298Z"
    },
    "papermill": {
     "duration": 0.03341,
     "end_time": "2023-02-20T12:07:31.707324",
     "exception": false,
     "start_time": "2023-02-20T12:07:31.673914",
     "status": "completed"
    },
    "tags": []
   },
   "outputs": [
    {
     "data": {
      "text/html": [
       "<div>\n",
       "<style scoped>\n",
       "    .dataframe tbody tr th:only-of-type {\n",
       "        vertical-align: middle;\n",
       "    }\n",
       "\n",
       "    .dataframe tbody tr th {\n",
       "        vertical-align: top;\n",
       "    }\n",
       "\n",
       "    .dataframe thead th {\n",
       "        text-align: right;\n",
       "    }\n",
       "</style>\n",
       "<table border=\"1\" class=\"dataframe\">\n",
       "  <thead>\n",
       "    <tr style=\"text-align: right;\">\n",
       "      <th></th>\n",
       "      <th>PassengerId</th>\n",
       "      <th>Survived</th>\n",
       "      <th>Pclass</th>\n",
       "      <th>Name</th>\n",
       "      <th>Sex</th>\n",
       "      <th>Age</th>\n",
       "      <th>SibSp</th>\n",
       "      <th>Parch</th>\n",
       "      <th>Ticket</th>\n",
       "      <th>Fare</th>\n",
       "      <th>Cabin</th>\n",
       "      <th>Embarked</th>\n",
       "      <th>test</th>\n",
       "      <th>Deck</th>\n",
       "    </tr>\n",
       "  </thead>\n",
       "  <tbody>\n",
       "    <tr>\n",
       "      <th>0</th>\n",
       "      <td>1</td>\n",
       "      <td>0.0</td>\n",
       "      <td>3</td>\n",
       "      <td>Braund, Mr. Owen Harris</td>\n",
       "      <td>male</td>\n",
       "      <td>22.0</td>\n",
       "      <td>1</td>\n",
       "      <td>0</td>\n",
       "      <td>A/5 21171</td>\n",
       "      <td>7.2500</td>\n",
       "      <td>NaN</td>\n",
       "      <td>S</td>\n",
       "      <td>0</td>\n",
       "      <td>NaN</td>\n",
       "    </tr>\n",
       "    <tr>\n",
       "      <th>1</th>\n",
       "      <td>2</td>\n",
       "      <td>1.0</td>\n",
       "      <td>1</td>\n",
       "      <td>Cumings, Mrs. John Bradley (Florence Briggs Th...</td>\n",
       "      <td>female</td>\n",
       "      <td>38.0</td>\n",
       "      <td>1</td>\n",
       "      <td>0</td>\n",
       "      <td>PC 17599</td>\n",
       "      <td>71.2833</td>\n",
       "      <td>C85</td>\n",
       "      <td>C</td>\n",
       "      <td>0</td>\n",
       "      <td>C</td>\n",
       "    </tr>\n",
       "    <tr>\n",
       "      <th>2</th>\n",
       "      <td>3</td>\n",
       "      <td>1.0</td>\n",
       "      <td>3</td>\n",
       "      <td>Heikkinen, Miss. Laina</td>\n",
       "      <td>female</td>\n",
       "      <td>26.0</td>\n",
       "      <td>0</td>\n",
       "      <td>0</td>\n",
       "      <td>STON/O2. 3101282</td>\n",
       "      <td>7.9250</td>\n",
       "      <td>NaN</td>\n",
       "      <td>S</td>\n",
       "      <td>0</td>\n",
       "      <td>NaN</td>\n",
       "    </tr>\n",
       "    <tr>\n",
       "      <th>3</th>\n",
       "      <td>4</td>\n",
       "      <td>1.0</td>\n",
       "      <td>1</td>\n",
       "      <td>Futrelle, Mrs. Jacques Heath (Lily May Peel)</td>\n",
       "      <td>female</td>\n",
       "      <td>35.0</td>\n",
       "      <td>1</td>\n",
       "      <td>0</td>\n",
       "      <td>113803</td>\n",
       "      <td>53.1000</td>\n",
       "      <td>C123</td>\n",
       "      <td>S</td>\n",
       "      <td>0</td>\n",
       "      <td>C</td>\n",
       "    </tr>\n",
       "    <tr>\n",
       "      <th>4</th>\n",
       "      <td>5</td>\n",
       "      <td>0.0</td>\n",
       "      <td>3</td>\n",
       "      <td>Allen, Mr. William Henry</td>\n",
       "      <td>male</td>\n",
       "      <td>35.0</td>\n",
       "      <td>0</td>\n",
       "      <td>0</td>\n",
       "      <td>373450</td>\n",
       "      <td>8.0500</td>\n",
       "      <td>NaN</td>\n",
       "      <td>S</td>\n",
       "      <td>0</td>\n",
       "      <td>NaN</td>\n",
       "    </tr>\n",
       "  </tbody>\n",
       "</table>\n",
       "</div>"
      ],
      "text/plain": [
       "   PassengerId  Survived  Pclass  \\\n",
       "0            1       0.0       3   \n",
       "1            2       1.0       1   \n",
       "2            3       1.0       3   \n",
       "3            4       1.0       1   \n",
       "4            5       0.0       3   \n",
       "\n",
       "                                                Name     Sex   Age  SibSp  \\\n",
       "0                            Braund, Mr. Owen Harris    male  22.0      1   \n",
       "1  Cumings, Mrs. John Bradley (Florence Briggs Th...  female  38.0      1   \n",
       "2                             Heikkinen, Miss. Laina  female  26.0      0   \n",
       "3       Futrelle, Mrs. Jacques Heath (Lily May Peel)  female  35.0      1   \n",
       "4                           Allen, Mr. William Henry    male  35.0      0   \n",
       "\n",
       "   Parch            Ticket     Fare Cabin Embarked  test Deck  \n",
       "0      0         A/5 21171   7.2500   NaN        S     0  NaN  \n",
       "1      0          PC 17599  71.2833   C85        C     0    C  \n",
       "2      0  STON/O2. 3101282   7.9250   NaN        S     0  NaN  \n",
       "3      0            113803  53.1000  C123        S     0    C  \n",
       "4      0            373450   8.0500   NaN        S     0  NaN  "
      ]
     },
     "execution_count": 11,
     "metadata": {},
     "output_type": "execute_result"
    }
   ],
   "source": [
    "df.head()"
   ]
  },
  {
   "cell_type": "code",
   "execution_count": 12,
   "id": "24218a63",
   "metadata": {
    "execution": {
     "iopub.execute_input": "2023-02-20T12:07:31.733095Z",
     "iopub.status.busy": "2023-02-20T12:07:31.732515Z",
     "iopub.status.idle": "2023-02-20T12:07:31.740084Z",
     "shell.execute_reply": "2023-02-20T12:07:31.738903Z"
    },
    "papermill": {
     "duration": 0.023064,
     "end_time": "2023-02-20T12:07:31.742314",
     "exception": false,
     "start_time": "2023-02-20T12:07:31.719250",
     "status": "completed"
    },
    "tags": []
   },
   "outputs": [
    {
     "data": {
      "text/plain": [
       "C    94\n",
       "B    65\n",
       "D    46\n",
       "E    41\n",
       "A    22\n",
       "F    21\n",
       "G     5\n",
       "T     1\n",
       "Name: Deck, dtype: int64"
      ]
     },
     "execution_count": 12,
     "metadata": {},
     "output_type": "execute_result"
    }
   ],
   "source": [
    "df['Deck'].value_counts()"
   ]
  },
  {
   "cell_type": "code",
   "execution_count": 13,
   "id": "6223c27b",
   "metadata": {
    "execution": {
     "iopub.execute_input": "2023-02-20T12:07:31.771228Z",
     "iopub.status.busy": "2023-02-20T12:07:31.770545Z",
     "iopub.status.idle": "2023-02-20T12:07:31.782024Z",
     "shell.execute_reply": "2023-02-20T12:07:31.780756Z"
    },
    "papermill": {
     "duration": 0.028129,
     "end_time": "2023-02-20T12:07:31.784529",
     "exception": false,
     "start_time": "2023-02-20T12:07:31.756400",
     "status": "completed"
    },
    "tags": []
   },
   "outputs": [
    {
     "data": {
      "text/plain": [
       "Pclass  Deck\n",
       "1       C       94\n",
       "        B       65\n",
       "        D       40\n",
       "        E       34\n",
       "        A       22\n",
       "        T        1\n",
       "2       F       13\n",
       "        D        6\n",
       "        E        4\n",
       "3       F        8\n",
       "        G        5\n",
       "        E        3\n",
       "Name: Deck, dtype: int64"
      ]
     },
     "execution_count": 13,
     "metadata": {},
     "output_type": "execute_result"
    }
   ],
   "source": [
    "df.groupby('Pclass').Deck.value_counts()"
   ]
  },
  {
   "cell_type": "code",
   "execution_count": 14,
   "id": "e225e88e",
   "metadata": {
    "execution": {
     "iopub.execute_input": "2023-02-20T12:07:31.810577Z",
     "iopub.status.busy": "2023-02-20T12:07:31.810142Z",
     "iopub.status.idle": "2023-02-20T12:07:31.819670Z",
     "shell.execute_reply": "2023-02-20T12:07:31.818872Z"
    },
    "papermill": {
     "duration": 0.024983,
     "end_time": "2023-02-20T12:07:31.821564",
     "exception": false,
     "start_time": "2023-02-20T12:07:31.796581",
     "status": "completed"
    },
    "tags": []
   },
   "outputs": [
    {
     "data": {
      "text/plain": [
       "0.0    549\n",
       "1.0    342\n",
       "Name: Survived, dtype: int64"
      ]
     },
     "execution_count": 14,
     "metadata": {},
     "output_type": "execute_result"
    }
   ],
   "source": [
    "df['Survived'].value_counts()"
   ]
  },
  {
   "cell_type": "code",
   "execution_count": 15,
   "id": "054f94d0",
   "metadata": {
    "execution": {
     "iopub.execute_input": "2023-02-20T12:07:31.848192Z",
     "iopub.status.busy": "2023-02-20T12:07:31.847745Z",
     "iopub.status.idle": "2023-02-20T12:07:31.855761Z",
     "shell.execute_reply": "2023-02-20T12:07:31.854915Z"
    },
    "papermill": {
     "duration": 0.023586,
     "end_time": "2023-02-20T12:07:31.857860",
     "exception": false,
     "start_time": "2023-02-20T12:07:31.834274",
     "status": "completed"
    },
    "tags": []
   },
   "outputs": [
    {
     "data": {
      "text/plain": [
       "3    709\n",
       "1    323\n",
       "2    277\n",
       "Name: Pclass, dtype: int64"
      ]
     },
     "execution_count": 15,
     "metadata": {},
     "output_type": "execute_result"
    }
   ],
   "source": [
    "df['Pclass'].value_counts()"
   ]
  },
  {
   "cell_type": "code",
   "execution_count": 16,
   "id": "c597389d",
   "metadata": {
    "execution": {
     "iopub.execute_input": "2023-02-20T12:07:31.884500Z",
     "iopub.status.busy": "2023-02-20T12:07:31.883754Z",
     "iopub.status.idle": "2023-02-20T12:07:31.903089Z",
     "shell.execute_reply": "2023-02-20T12:07:31.902161Z"
    },
    "papermill": {
     "duration": 0.03508,
     "end_time": "2023-02-20T12:07:31.905351",
     "exception": false,
     "start_time": "2023-02-20T12:07:31.870271",
     "status": "completed"
    },
    "tags": []
   },
   "outputs": [
    {
     "data": {
      "text/html": [
       "<div>\n",
       "<style scoped>\n",
       "    .dataframe tbody tr th:only-of-type {\n",
       "        vertical-align: middle;\n",
       "    }\n",
       "\n",
       "    .dataframe tbody tr th {\n",
       "        vertical-align: top;\n",
       "    }\n",
       "\n",
       "    .dataframe thead th {\n",
       "        text-align: right;\n",
       "    }\n",
       "</style>\n",
       "<table border=\"1\" class=\"dataframe\">\n",
       "  <thead>\n",
       "    <tr style=\"text-align: right;\">\n",
       "      <th></th>\n",
       "      <th>PassengerId</th>\n",
       "      <th>Survived</th>\n",
       "      <th>Pclass</th>\n",
       "      <th>Name</th>\n",
       "      <th>Sex</th>\n",
       "      <th>Age</th>\n",
       "      <th>SibSp</th>\n",
       "      <th>Parch</th>\n",
       "      <th>Ticket</th>\n",
       "      <th>Fare</th>\n",
       "      <th>Cabin</th>\n",
       "      <th>Embarked</th>\n",
       "      <th>test</th>\n",
       "      <th>Deck</th>\n",
       "    </tr>\n",
       "  </thead>\n",
       "  <tbody>\n",
       "    <tr>\n",
       "      <th>0</th>\n",
       "      <td>1</td>\n",
       "      <td>0.0</td>\n",
       "      <td>3</td>\n",
       "      <td>Braund, Mr. Owen Harris</td>\n",
       "      <td>male</td>\n",
       "      <td>22.0</td>\n",
       "      <td>1</td>\n",
       "      <td>0</td>\n",
       "      <td>A/5 21171</td>\n",
       "      <td>7.2500</td>\n",
       "      <td>NaN</td>\n",
       "      <td>S</td>\n",
       "      <td>0</td>\n",
       "      <td>NaN</td>\n",
       "    </tr>\n",
       "    <tr>\n",
       "      <th>1</th>\n",
       "      <td>2</td>\n",
       "      <td>1.0</td>\n",
       "      <td>1</td>\n",
       "      <td>Cumings, Mrs. John Bradley (Florence Briggs Th...</td>\n",
       "      <td>female</td>\n",
       "      <td>38.0</td>\n",
       "      <td>1</td>\n",
       "      <td>0</td>\n",
       "      <td>PC 17599</td>\n",
       "      <td>71.2833</td>\n",
       "      <td>C85</td>\n",
       "      <td>C</td>\n",
       "      <td>0</td>\n",
       "      <td>C</td>\n",
       "    </tr>\n",
       "    <tr>\n",
       "      <th>2</th>\n",
       "      <td>3</td>\n",
       "      <td>1.0</td>\n",
       "      <td>3</td>\n",
       "      <td>Heikkinen, Miss. Laina</td>\n",
       "      <td>female</td>\n",
       "      <td>26.0</td>\n",
       "      <td>0</td>\n",
       "      <td>0</td>\n",
       "      <td>STON/O2. 3101282</td>\n",
       "      <td>7.9250</td>\n",
       "      <td>NaN</td>\n",
       "      <td>S</td>\n",
       "      <td>0</td>\n",
       "      <td>NaN</td>\n",
       "    </tr>\n",
       "    <tr>\n",
       "      <th>3</th>\n",
       "      <td>4</td>\n",
       "      <td>1.0</td>\n",
       "      <td>1</td>\n",
       "      <td>Futrelle, Mrs. Jacques Heath (Lily May Peel)</td>\n",
       "      <td>female</td>\n",
       "      <td>35.0</td>\n",
       "      <td>1</td>\n",
       "      <td>0</td>\n",
       "      <td>113803</td>\n",
       "      <td>53.1000</td>\n",
       "      <td>C123</td>\n",
       "      <td>S</td>\n",
       "      <td>0</td>\n",
       "      <td>C</td>\n",
       "    </tr>\n",
       "    <tr>\n",
       "      <th>4</th>\n",
       "      <td>5</td>\n",
       "      <td>0.0</td>\n",
       "      <td>3</td>\n",
       "      <td>Allen, Mr. William Henry</td>\n",
       "      <td>male</td>\n",
       "      <td>35.0</td>\n",
       "      <td>0</td>\n",
       "      <td>0</td>\n",
       "      <td>373450</td>\n",
       "      <td>8.0500</td>\n",
       "      <td>NaN</td>\n",
       "      <td>S</td>\n",
       "      <td>0</td>\n",
       "      <td>NaN</td>\n",
       "    </tr>\n",
       "  </tbody>\n",
       "</table>\n",
       "</div>"
      ],
      "text/plain": [
       "   PassengerId  Survived  Pclass  \\\n",
       "0            1       0.0       3   \n",
       "1            2       1.0       1   \n",
       "2            3       1.0       3   \n",
       "3            4       1.0       1   \n",
       "4            5       0.0       3   \n",
       "\n",
       "                                                Name     Sex   Age  SibSp  \\\n",
       "0                            Braund, Mr. Owen Harris    male  22.0      1   \n",
       "1  Cumings, Mrs. John Bradley (Florence Briggs Th...  female  38.0      1   \n",
       "2                             Heikkinen, Miss. Laina  female  26.0      0   \n",
       "3       Futrelle, Mrs. Jacques Heath (Lily May Peel)  female  35.0      1   \n",
       "4                           Allen, Mr. William Henry    male  35.0      0   \n",
       "\n",
       "   Parch            Ticket     Fare Cabin Embarked  test Deck  \n",
       "0      0         A/5 21171   7.2500   NaN        S     0  NaN  \n",
       "1      0          PC 17599  71.2833   C85        C     0    C  \n",
       "2      0  STON/O2. 3101282   7.9250   NaN        S     0  NaN  \n",
       "3      0            113803  53.1000  C123        S     0    C  \n",
       "4      0            373450   8.0500   NaN        S     0  NaN  "
      ]
     },
     "execution_count": 16,
     "metadata": {},
     "output_type": "execute_result"
    }
   ],
   "source": [
    "df.head()"
   ]
  },
  {
   "cell_type": "code",
   "execution_count": null,
   "id": "a93e4a83",
   "metadata": {
    "papermill": {
     "duration": 0.012204,
     "end_time": "2023-02-20T12:07:31.930209",
     "exception": false,
     "start_time": "2023-02-20T12:07:31.918005",
     "status": "completed"
    },
    "tags": []
   },
   "outputs": [],
   "source": []
  },
  {
   "cell_type": "code",
   "execution_count": 17,
   "id": "7fb94de4",
   "metadata": {
    "execution": {
     "iopub.execute_input": "2023-02-20T12:07:31.957839Z",
     "iopub.status.busy": "2023-02-20T12:07:31.956762Z",
     "iopub.status.idle": "2023-02-20T12:07:31.975243Z",
     "shell.execute_reply": "2023-02-20T12:07:31.974138Z"
    },
    "papermill": {
     "duration": 0.035012,
     "end_time": "2023-02-20T12:07:31.977646",
     "exception": false,
     "start_time": "2023-02-20T12:07:31.942634",
     "status": "completed"
    },
    "tags": []
   },
   "outputs": [
    {
     "data": {
      "text/html": [
       "<div>\n",
       "<style scoped>\n",
       "    .dataframe tbody tr th:only-of-type {\n",
       "        vertical-align: middle;\n",
       "    }\n",
       "\n",
       "    .dataframe tbody tr th {\n",
       "        vertical-align: top;\n",
       "    }\n",
       "\n",
       "    .dataframe thead th {\n",
       "        text-align: right;\n",
       "    }\n",
       "</style>\n",
       "<table border=\"1\" class=\"dataframe\">\n",
       "  <thead>\n",
       "    <tr style=\"text-align: right;\">\n",
       "      <th></th>\n",
       "      <th>PassengerId</th>\n",
       "      <th>Survived</th>\n",
       "      <th>Pclass</th>\n",
       "      <th>Name</th>\n",
       "      <th>Sex</th>\n",
       "      <th>Age</th>\n",
       "      <th>SibSp</th>\n",
       "      <th>Parch</th>\n",
       "      <th>Ticket</th>\n",
       "      <th>Fare</th>\n",
       "      <th>Cabin</th>\n",
       "      <th>Embarked</th>\n",
       "      <th>test</th>\n",
       "      <th>Deck</th>\n",
       "    </tr>\n",
       "  </thead>\n",
       "  <tbody>\n",
       "    <tr>\n",
       "      <th>0</th>\n",
       "      <td>1</td>\n",
       "      <td>0.0</td>\n",
       "      <td>3</td>\n",
       "      <td>Braund, Mr. Owen Harris</td>\n",
       "      <td>male</td>\n",
       "      <td>22.0</td>\n",
       "      <td>1</td>\n",
       "      <td>0</td>\n",
       "      <td>A/5 21171</td>\n",
       "      <td>7.2500</td>\n",
       "      <td>NaN</td>\n",
       "      <td>S</td>\n",
       "      <td>0</td>\n",
       "      <td>NaN</td>\n",
       "    </tr>\n",
       "    <tr>\n",
       "      <th>1</th>\n",
       "      <td>2</td>\n",
       "      <td>1.0</td>\n",
       "      <td>1</td>\n",
       "      <td>Cumings, Mrs. John Bradley (Florence Briggs Th...</td>\n",
       "      <td>female</td>\n",
       "      <td>38.0</td>\n",
       "      <td>1</td>\n",
       "      <td>0</td>\n",
       "      <td>PC 17599</td>\n",
       "      <td>71.2833</td>\n",
       "      <td>C85</td>\n",
       "      <td>C</td>\n",
       "      <td>0</td>\n",
       "      <td>C</td>\n",
       "    </tr>\n",
       "    <tr>\n",
       "      <th>2</th>\n",
       "      <td>3</td>\n",
       "      <td>1.0</td>\n",
       "      <td>3</td>\n",
       "      <td>Heikkinen, Miss. Laina</td>\n",
       "      <td>female</td>\n",
       "      <td>26.0</td>\n",
       "      <td>0</td>\n",
       "      <td>0</td>\n",
       "      <td>STON/O2. 3101282</td>\n",
       "      <td>7.9250</td>\n",
       "      <td>NaN</td>\n",
       "      <td>S</td>\n",
       "      <td>0</td>\n",
       "      <td>NaN</td>\n",
       "    </tr>\n",
       "    <tr>\n",
       "      <th>3</th>\n",
       "      <td>4</td>\n",
       "      <td>1.0</td>\n",
       "      <td>1</td>\n",
       "      <td>Futrelle, Mrs. Jacques Heath (Lily May Peel)</td>\n",
       "      <td>female</td>\n",
       "      <td>35.0</td>\n",
       "      <td>1</td>\n",
       "      <td>0</td>\n",
       "      <td>113803</td>\n",
       "      <td>53.1000</td>\n",
       "      <td>C123</td>\n",
       "      <td>S</td>\n",
       "      <td>0</td>\n",
       "      <td>C</td>\n",
       "    </tr>\n",
       "    <tr>\n",
       "      <th>4</th>\n",
       "      <td>5</td>\n",
       "      <td>0.0</td>\n",
       "      <td>3</td>\n",
       "      <td>Allen, Mr. William Henry</td>\n",
       "      <td>male</td>\n",
       "      <td>35.0</td>\n",
       "      <td>0</td>\n",
       "      <td>0</td>\n",
       "      <td>373450</td>\n",
       "      <td>8.0500</td>\n",
       "      <td>NaN</td>\n",
       "      <td>S</td>\n",
       "      <td>0</td>\n",
       "      <td>NaN</td>\n",
       "    </tr>\n",
       "  </tbody>\n",
       "</table>\n",
       "</div>"
      ],
      "text/plain": [
       "   PassengerId  Survived  Pclass  \\\n",
       "0            1       0.0       3   \n",
       "1            2       1.0       1   \n",
       "2            3       1.0       3   \n",
       "3            4       1.0       1   \n",
       "4            5       0.0       3   \n",
       "\n",
       "                                                Name     Sex   Age  SibSp  \\\n",
       "0                            Braund, Mr. Owen Harris    male  22.0      1   \n",
       "1  Cumings, Mrs. John Bradley (Florence Briggs Th...  female  38.0      1   \n",
       "2                             Heikkinen, Miss. Laina  female  26.0      0   \n",
       "3       Futrelle, Mrs. Jacques Heath (Lily May Peel)  female  35.0      1   \n",
       "4                           Allen, Mr. William Henry    male  35.0      0   \n",
       "\n",
       "   Parch            Ticket     Fare Cabin Embarked  test Deck  \n",
       "0      0         A/5 21171   7.2500   NaN        S     0  NaN  \n",
       "1      0          PC 17599  71.2833   C85        C     0    C  \n",
       "2      0  STON/O2. 3101282   7.9250   NaN        S     0  NaN  \n",
       "3      0            113803  53.1000  C123        S     0    C  \n",
       "4      0            373450   8.0500   NaN        S     0  NaN  "
      ]
     },
     "execution_count": 17,
     "metadata": {},
     "output_type": "execute_result"
    }
   ],
   "source": [
    "df.head()"
   ]
  },
  {
   "cell_type": "code",
   "execution_count": 18,
   "id": "e46f0d53",
   "metadata": {
    "execution": {
     "iopub.execute_input": "2023-02-20T12:07:32.005098Z",
     "iopub.status.busy": "2023-02-20T12:07:32.004661Z",
     "iopub.status.idle": "2023-02-20T12:07:32.012100Z",
     "shell.execute_reply": "2023-02-20T12:07:32.011058Z"
    },
    "papermill": {
     "duration": 0.023838,
     "end_time": "2023-02-20T12:07:32.014402",
     "exception": false,
     "start_time": "2023-02-20T12:07:31.990564",
     "status": "completed"
    },
    "tags": []
   },
   "outputs": [
    {
     "data": {
      "text/plain": [
       "Index(['PassengerId', 'Survived', 'Pclass', 'Name', 'Sex', 'Age', 'SibSp',\n",
       "       'Parch', 'Ticket', 'Fare', 'Cabin', 'Embarked', 'test', 'Deck'],\n",
       "      dtype='object')"
      ]
     },
     "execution_count": 18,
     "metadata": {},
     "output_type": "execute_result"
    }
   ],
   "source": [
    "df.columns"
   ]
  },
  {
   "cell_type": "code",
   "execution_count": 19,
   "id": "7eb3bea1",
   "metadata": {
    "execution": {
     "iopub.execute_input": "2023-02-20T12:07:32.042414Z",
     "iopub.status.busy": "2023-02-20T12:07:32.041343Z",
     "iopub.status.idle": "2023-02-20T12:07:32.053641Z",
     "shell.execute_reply": "2023-02-20T12:07:32.052815Z"
    },
    "papermill": {
     "duration": 0.02864,
     "end_time": "2023-02-20T12:07:32.055912",
     "exception": false,
     "start_time": "2023-02-20T12:07:32.027272",
     "status": "completed"
    },
    "tags": []
   },
   "outputs": [],
   "source": [
    "df=pd.get_dummies(df, columns = ['Sex','Embarked','Deck'])"
   ]
  },
  {
   "cell_type": "code",
   "execution_count": 20,
   "id": "852c8be5",
   "metadata": {
    "execution": {
     "iopub.execute_input": "2023-02-20T12:07:32.085001Z",
     "iopub.status.busy": "2023-02-20T12:07:32.083845Z",
     "iopub.status.idle": "2023-02-20T12:07:32.092131Z",
     "shell.execute_reply": "2023-02-20T12:07:32.091155Z"
    },
    "papermill": {
     "duration": 0.024811,
     "end_time": "2023-02-20T12:07:32.094488",
     "exception": false,
     "start_time": "2023-02-20T12:07:32.069677",
     "status": "completed"
    },
    "tags": []
   },
   "outputs": [],
   "source": [
    "df.drop(['PassengerId','Name','Ticket','Cabin'],axis=1,inplace=True)"
   ]
  },
  {
   "cell_type": "code",
   "execution_count": 21,
   "id": "f5cf9547",
   "metadata": {
    "execution": {
     "iopub.execute_input": "2023-02-20T12:07:32.122177Z",
     "iopub.status.busy": "2023-02-20T12:07:32.121557Z",
     "iopub.status.idle": "2023-02-20T12:07:32.130616Z",
     "shell.execute_reply": "2023-02-20T12:07:32.129354Z"
    },
    "papermill": {
     "duration": 0.025639,
     "end_time": "2023-02-20T12:07:32.133001",
     "exception": false,
     "start_time": "2023-02-20T12:07:32.107362",
     "status": "completed"
    },
    "tags": []
   },
   "outputs": [
    {
     "data": {
      "text/plain": [
       "24.0    47\n",
       "22.0    43\n",
       "21.0    41\n",
       "30.0    40\n",
       "18.0    39\n",
       "        ..\n",
       "23.5     1\n",
       "70.5     1\n",
       "55.5     1\n",
       "20.5     1\n",
       "38.5     1\n",
       "Name: Age, Length: 98, dtype: int64"
      ]
     },
     "execution_count": 21,
     "metadata": {},
     "output_type": "execute_result"
    }
   ],
   "source": [
    "df['Age'].value_counts()"
   ]
  },
  {
   "cell_type": "code",
   "execution_count": 22,
   "id": "ab3556ea",
   "metadata": {
    "execution": {
     "iopub.execute_input": "2023-02-20T12:07:32.161543Z",
     "iopub.status.busy": "2023-02-20T12:07:32.161077Z",
     "iopub.status.idle": "2023-02-20T12:07:32.168795Z",
     "shell.execute_reply": "2023-02-20T12:07:32.167626Z"
    },
    "papermill": {
     "duration": 0.024765,
     "end_time": "2023-02-20T12:07:32.171109",
     "exception": false,
     "start_time": "2023-02-20T12:07:32.146344",
     "status": "completed"
    },
    "tags": []
   },
   "outputs": [],
   "source": [
    "df_train=df[df['test']==0]\n",
    "df_test=df[df['test']==1]"
   ]
  },
  {
   "cell_type": "code",
   "execution_count": 23,
   "id": "c30b12f9",
   "metadata": {
    "execution": {
     "iopub.execute_input": "2023-02-20T12:07:32.199616Z",
     "iopub.status.busy": "2023-02-20T12:07:32.199200Z",
     "iopub.status.idle": "2023-02-20T12:07:32.212912Z",
     "shell.execute_reply": "2023-02-20T12:07:32.211180Z"
    },
    "papermill": {
     "duration": 0.031521,
     "end_time": "2023-02-20T12:07:32.215710",
     "exception": false,
     "start_time": "2023-02-20T12:07:32.184189",
     "status": "completed"
    },
    "tags": []
   },
   "outputs": [
    {
     "name": "stderr",
     "output_type": "stream",
     "text": [
      "/opt/conda/lib/python3.7/site-packages/pandas/core/frame.py:4913: SettingWithCopyWarning: \n",
      "A value is trying to be set on a copy of a slice from a DataFrame\n",
      "\n",
      "See the caveats in the documentation: https://pandas.pydata.org/pandas-docs/stable/user_guide/indexing.html#returning-a-view-versus-a-copy\n",
      "  errors=errors,\n"
     ]
    }
   ],
   "source": [
    "df_train.drop('test',axis=1,inplace=True)\n",
    "df_test.drop('test',axis=1,inplace=True)"
   ]
  },
  {
   "cell_type": "code",
   "execution_count": 24,
   "id": "4706da32",
   "metadata": {
    "execution": {
     "iopub.execute_input": "2023-02-20T12:07:32.243905Z",
     "iopub.status.busy": "2023-02-20T12:07:32.243486Z",
     "iopub.status.idle": "2023-02-20T12:07:32.261347Z",
     "shell.execute_reply": "2023-02-20T12:07:32.260410Z"
    },
    "papermill": {
     "duration": 0.034517,
     "end_time": "2023-02-20T12:07:32.263457",
     "exception": false,
     "start_time": "2023-02-20T12:07:32.228940",
     "status": "completed"
    },
    "tags": []
   },
   "outputs": [
    {
     "data": {
      "text/html": [
       "<div>\n",
       "<style scoped>\n",
       "    .dataframe tbody tr th:only-of-type {\n",
       "        vertical-align: middle;\n",
       "    }\n",
       "\n",
       "    .dataframe tbody tr th {\n",
       "        vertical-align: top;\n",
       "    }\n",
       "\n",
       "    .dataframe thead th {\n",
       "        text-align: right;\n",
       "    }\n",
       "</style>\n",
       "<table border=\"1\" class=\"dataframe\">\n",
       "  <thead>\n",
       "    <tr style=\"text-align: right;\">\n",
       "      <th></th>\n",
       "      <th>Survived</th>\n",
       "      <th>Pclass</th>\n",
       "      <th>Age</th>\n",
       "      <th>SibSp</th>\n",
       "      <th>Parch</th>\n",
       "      <th>Fare</th>\n",
       "      <th>Sex_female</th>\n",
       "      <th>Sex_male</th>\n",
       "      <th>Embarked_C</th>\n",
       "      <th>Embarked_Q</th>\n",
       "      <th>Embarked_S</th>\n",
       "      <th>Deck_A</th>\n",
       "      <th>Deck_B</th>\n",
       "      <th>Deck_C</th>\n",
       "      <th>Deck_D</th>\n",
       "      <th>Deck_E</th>\n",
       "      <th>Deck_F</th>\n",
       "      <th>Deck_G</th>\n",
       "      <th>Deck_T</th>\n",
       "    </tr>\n",
       "  </thead>\n",
       "  <tbody>\n",
       "    <tr>\n",
       "      <th>0</th>\n",
       "      <td>0.0</td>\n",
       "      <td>3</td>\n",
       "      <td>22.0</td>\n",
       "      <td>1</td>\n",
       "      <td>0</td>\n",
       "      <td>7.2500</td>\n",
       "      <td>0</td>\n",
       "      <td>1</td>\n",
       "      <td>0</td>\n",
       "      <td>0</td>\n",
       "      <td>1</td>\n",
       "      <td>0</td>\n",
       "      <td>0</td>\n",
       "      <td>0</td>\n",
       "      <td>0</td>\n",
       "      <td>0</td>\n",
       "      <td>0</td>\n",
       "      <td>0</td>\n",
       "      <td>0</td>\n",
       "    </tr>\n",
       "    <tr>\n",
       "      <th>1</th>\n",
       "      <td>1.0</td>\n",
       "      <td>1</td>\n",
       "      <td>38.0</td>\n",
       "      <td>1</td>\n",
       "      <td>0</td>\n",
       "      <td>71.2833</td>\n",
       "      <td>1</td>\n",
       "      <td>0</td>\n",
       "      <td>1</td>\n",
       "      <td>0</td>\n",
       "      <td>0</td>\n",
       "      <td>0</td>\n",
       "      <td>0</td>\n",
       "      <td>1</td>\n",
       "      <td>0</td>\n",
       "      <td>0</td>\n",
       "      <td>0</td>\n",
       "      <td>0</td>\n",
       "      <td>0</td>\n",
       "    </tr>\n",
       "    <tr>\n",
       "      <th>2</th>\n",
       "      <td>1.0</td>\n",
       "      <td>3</td>\n",
       "      <td>26.0</td>\n",
       "      <td>0</td>\n",
       "      <td>0</td>\n",
       "      <td>7.9250</td>\n",
       "      <td>1</td>\n",
       "      <td>0</td>\n",
       "      <td>0</td>\n",
       "      <td>0</td>\n",
       "      <td>1</td>\n",
       "      <td>0</td>\n",
       "      <td>0</td>\n",
       "      <td>0</td>\n",
       "      <td>0</td>\n",
       "      <td>0</td>\n",
       "      <td>0</td>\n",
       "      <td>0</td>\n",
       "      <td>0</td>\n",
       "    </tr>\n",
       "    <tr>\n",
       "      <th>3</th>\n",
       "      <td>1.0</td>\n",
       "      <td>1</td>\n",
       "      <td>35.0</td>\n",
       "      <td>1</td>\n",
       "      <td>0</td>\n",
       "      <td>53.1000</td>\n",
       "      <td>1</td>\n",
       "      <td>0</td>\n",
       "      <td>0</td>\n",
       "      <td>0</td>\n",
       "      <td>1</td>\n",
       "      <td>0</td>\n",
       "      <td>0</td>\n",
       "      <td>1</td>\n",
       "      <td>0</td>\n",
       "      <td>0</td>\n",
       "      <td>0</td>\n",
       "      <td>0</td>\n",
       "      <td>0</td>\n",
       "    </tr>\n",
       "    <tr>\n",
       "      <th>4</th>\n",
       "      <td>0.0</td>\n",
       "      <td>3</td>\n",
       "      <td>35.0</td>\n",
       "      <td>0</td>\n",
       "      <td>0</td>\n",
       "      <td>8.0500</td>\n",
       "      <td>0</td>\n",
       "      <td>1</td>\n",
       "      <td>0</td>\n",
       "      <td>0</td>\n",
       "      <td>1</td>\n",
       "      <td>0</td>\n",
       "      <td>0</td>\n",
       "      <td>0</td>\n",
       "      <td>0</td>\n",
       "      <td>0</td>\n",
       "      <td>0</td>\n",
       "      <td>0</td>\n",
       "      <td>0</td>\n",
       "    </tr>\n",
       "  </tbody>\n",
       "</table>\n",
       "</div>"
      ],
      "text/plain": [
       "   Survived  Pclass   Age  SibSp  Parch     Fare  Sex_female  Sex_male  \\\n",
       "0       0.0       3  22.0      1      0   7.2500           0         1   \n",
       "1       1.0       1  38.0      1      0  71.2833           1         0   \n",
       "2       1.0       3  26.0      0      0   7.9250           1         0   \n",
       "3       1.0       1  35.0      1      0  53.1000           1         0   \n",
       "4       0.0       3  35.0      0      0   8.0500           0         1   \n",
       "\n",
       "   Embarked_C  Embarked_Q  Embarked_S  Deck_A  Deck_B  Deck_C  Deck_D  Deck_E  \\\n",
       "0           0           0           1       0       0       0       0       0   \n",
       "1           1           0           0       0       0       1       0       0   \n",
       "2           0           0           1       0       0       0       0       0   \n",
       "3           0           0           1       0       0       1       0       0   \n",
       "4           0           0           1       0       0       0       0       0   \n",
       "\n",
       "   Deck_F  Deck_G  Deck_T  \n",
       "0       0       0       0  \n",
       "1       0       0       0  \n",
       "2       0       0       0  \n",
       "3       0       0       0  \n",
       "4       0       0       0  "
      ]
     },
     "execution_count": 24,
     "metadata": {},
     "output_type": "execute_result"
    }
   ],
   "source": [
    "df_train.head()"
   ]
  },
  {
   "cell_type": "code",
   "execution_count": 25,
   "id": "c6e0dfd7",
   "metadata": {
    "execution": {
     "iopub.execute_input": "2023-02-20T12:07:32.291825Z",
     "iopub.status.busy": "2023-02-20T12:07:32.291420Z",
     "iopub.status.idle": "2023-02-20T12:07:32.298909Z",
     "shell.execute_reply": "2023-02-20T12:07:32.297421Z"
    },
    "papermill": {
     "duration": 0.024439,
     "end_time": "2023-02-20T12:07:32.301422",
     "exception": false,
     "start_time": "2023-02-20T12:07:32.276983",
     "status": "completed"
    },
    "tags": []
   },
   "outputs": [
    {
     "name": "stderr",
     "output_type": "stream",
     "text": [
      "/opt/conda/lib/python3.7/site-packages/ipykernel_launcher.py:1: SettingWithCopyWarning: \n",
      "A value is trying to be set on a copy of a slice from a DataFrame.\n",
      "Try using .loc[row_indexer,col_indexer] = value instead\n",
      "\n",
      "See the caveats in the documentation: https://pandas.pydata.org/pandas-docs/stable/user_guide/indexing.html#returning-a-view-versus-a-copy\n",
      "  \"\"\"Entry point for launching an IPython kernel.\n"
     ]
    }
   ],
   "source": [
    "df_train['Age']=df_train['Age'].fillna(df_train['Age'].mean())"
   ]
  },
  {
   "cell_type": "code",
   "execution_count": 26,
   "id": "bf2e5596",
   "metadata": {
    "execution": {
     "iopub.execute_input": "2023-02-20T12:07:32.330824Z",
     "iopub.status.busy": "2023-02-20T12:07:32.330378Z",
     "iopub.status.idle": "2023-02-20T12:07:32.340551Z",
     "shell.execute_reply": "2023-02-20T12:07:32.339269Z"
    },
    "papermill": {
     "duration": 0.027897,
     "end_time": "2023-02-20T12:07:32.343009",
     "exception": false,
     "start_time": "2023-02-20T12:07:32.315112",
     "status": "completed"
    },
    "tags": []
   },
   "outputs": [
    {
     "data": {
      "text/plain": [
       "Survived      0\n",
       "Pclass        0\n",
       "Age           0\n",
       "SibSp         0\n",
       "Parch         0\n",
       "Fare          0\n",
       "Sex_female    0\n",
       "Sex_male      0\n",
       "Embarked_C    0\n",
       "Embarked_Q    0\n",
       "Embarked_S    0\n",
       "Deck_A        0\n",
       "Deck_B        0\n",
       "Deck_C        0\n",
       "Deck_D        0\n",
       "Deck_E        0\n",
       "Deck_F        0\n",
       "Deck_G        0\n",
       "Deck_T        0\n",
       "dtype: int64"
      ]
     },
     "execution_count": 26,
     "metadata": {},
     "output_type": "execute_result"
    }
   ],
   "source": [
    "df_train.isna().sum()"
   ]
  },
  {
   "cell_type": "code",
   "execution_count": 27,
   "id": "0a9fbab7",
   "metadata": {
    "execution": {
     "iopub.execute_input": "2023-02-20T12:07:32.372552Z",
     "iopub.status.busy": "2023-02-20T12:07:32.372139Z",
     "iopub.status.idle": "2023-02-20T12:07:32.378555Z",
     "shell.execute_reply": "2023-02-20T12:07:32.377511Z"
    },
    "papermill": {
     "duration": 0.0233,
     "end_time": "2023-02-20T12:07:32.380636",
     "exception": false,
     "start_time": "2023-02-20T12:07:32.357336",
     "status": "completed"
    },
    "tags": []
   },
   "outputs": [],
   "source": [
    "X = df_train.iloc[:, df_train.columns != 'Survived']\n",
    "y = df_train.iloc[:, df_train.columns == 'Survived']"
   ]
  },
  {
   "cell_type": "code",
   "execution_count": 28,
   "id": "8d98bfa2",
   "metadata": {
    "execution": {
     "iopub.execute_input": "2023-02-20T12:07:32.411097Z",
     "iopub.status.busy": "2023-02-20T12:07:32.410724Z",
     "iopub.status.idle": "2023-02-20T12:07:33.502300Z",
     "shell.execute_reply": "2023-02-20T12:07:33.501185Z"
    },
    "papermill": {
     "duration": 1.110293,
     "end_time": "2023-02-20T12:07:33.505009",
     "exception": false,
     "start_time": "2023-02-20T12:07:32.394716",
     "status": "completed"
    },
    "tags": []
   },
   "outputs": [],
   "source": [
    "from sklearn.model_selection import train_test_split\n",
    "\n",
    "# Whole dataset\n",
    "X_train, X_test, y_train, y_test = train_test_split(X,y,test_size = 0.3, random_state = 0)"
   ]
  },
  {
   "cell_type": "code",
   "execution_count": 29,
   "id": "9713dde9",
   "metadata": {
    "execution": {
     "iopub.execute_input": "2023-02-20T12:07:33.534626Z",
     "iopub.status.busy": "2023-02-20T12:07:33.534217Z",
     "iopub.status.idle": "2023-02-20T12:07:33.539377Z",
     "shell.execute_reply": "2023-02-20T12:07:33.538198Z"
    },
    "papermill": {
     "duration": 0.022316,
     "end_time": "2023-02-20T12:07:33.541541",
     "exception": false,
     "start_time": "2023-02-20T12:07:33.519225",
     "status": "completed"
    },
    "tags": []
   },
   "outputs": [],
   "source": [
    "X_val=df_test"
   ]
  },
  {
   "cell_type": "code",
   "execution_count": 30,
   "id": "a99cc6d0",
   "metadata": {
    "execution": {
     "iopub.execute_input": "2023-02-20T12:07:33.571039Z",
     "iopub.status.busy": "2023-02-20T12:07:33.570629Z",
     "iopub.status.idle": "2023-02-20T12:07:33.576627Z",
     "shell.execute_reply": "2023-02-20T12:07:33.575527Z"
    },
    "papermill": {
     "duration": 0.025405,
     "end_time": "2023-02-20T12:07:33.580448",
     "exception": false,
     "start_time": "2023-02-20T12:07:33.555043",
     "status": "completed"
    },
    "tags": []
   },
   "outputs": [
    {
     "name": "stderr",
     "output_type": "stream",
     "text": [
      "/opt/conda/lib/python3.7/site-packages/pandas/core/frame.py:4913: SettingWithCopyWarning: \n",
      "A value is trying to be set on a copy of a slice from a DataFrame\n",
      "\n",
      "See the caveats in the documentation: https://pandas.pydata.org/pandas-docs/stable/user_guide/indexing.html#returning-a-view-versus-a-copy\n",
      "  errors=errors,\n"
     ]
    }
   ],
   "source": [
    "df_test.drop('Survived',axis=1,inplace=True)"
   ]
  },
  {
   "cell_type": "code",
   "execution_count": 31,
   "id": "059962f0",
   "metadata": {
    "execution": {
     "iopub.execute_input": "2023-02-20T12:07:33.610184Z",
     "iopub.status.busy": "2023-02-20T12:07:33.609769Z",
     "iopub.status.idle": "2023-02-20T12:07:33.614755Z",
     "shell.execute_reply": "2023-02-20T12:07:33.613590Z"
    },
    "papermill": {
     "duration": 0.022007,
     "end_time": "2023-02-20T12:07:33.617059",
     "exception": false,
     "start_time": "2023-02-20T12:07:33.595052",
     "status": "completed"
    },
    "tags": []
   },
   "outputs": [],
   "source": [
    "X_val=df_test"
   ]
  },
  {
   "cell_type": "code",
   "execution_count": 32,
   "id": "eab9cf6b",
   "metadata": {
    "execution": {
     "iopub.execute_input": "2023-02-20T12:07:33.645691Z",
     "iopub.status.busy": "2023-02-20T12:07:33.645301Z",
     "iopub.status.idle": "2023-02-20T12:07:33.659586Z",
     "shell.execute_reply": "2023-02-20T12:07:33.658542Z"
    },
    "papermill": {
     "duration": 0.031657,
     "end_time": "2023-02-20T12:07:33.662273",
     "exception": false,
     "start_time": "2023-02-20T12:07:33.630616",
     "status": "completed"
    },
    "tags": []
   },
   "outputs": [],
   "source": [
    "from sklearn.preprocessing import StandardScaler\n",
    "scaler=StandardScaler()\n",
    "scaled_X_train = scaler.fit_transform(X_train)\n",
    "scaled_X_test = scaler.transform(X_test)\n",
    "scaled_X_val=scaler.transform(X_val)"
   ]
  },
  {
   "cell_type": "code",
   "execution_count": 33,
   "id": "120bd625",
   "metadata": {
    "execution": {
     "iopub.execute_input": "2023-02-20T12:07:33.691064Z",
     "iopub.status.busy": "2023-02-20T12:07:33.690613Z",
     "iopub.status.idle": "2023-02-20T12:07:33.697691Z",
     "shell.execute_reply": "2023-02-20T12:07:33.696595Z"
    },
    "papermill": {
     "duration": 0.024066,
     "end_time": "2023-02-20T12:07:33.699789",
     "exception": false,
     "start_time": "2023-02-20T12:07:33.675723",
     "status": "completed"
    },
    "tags": []
   },
   "outputs": [
    {
     "data": {
      "text/plain": [
       "(623, 18)"
      ]
     },
     "execution_count": 33,
     "metadata": {},
     "output_type": "execute_result"
    }
   ],
   "source": [
    "X_train.shape"
   ]
  },
  {
   "cell_type": "code",
   "execution_count": 34,
   "id": "10c8d313",
   "metadata": {
    "execution": {
     "iopub.execute_input": "2023-02-20T12:07:33.729276Z",
     "iopub.status.busy": "2023-02-20T12:07:33.728456Z",
     "iopub.status.idle": "2023-02-20T12:07:47.738686Z",
     "shell.execute_reply": "2023-02-20T12:07:47.737220Z"
    },
    "papermill": {
     "duration": 14.027714,
     "end_time": "2023-02-20T12:07:47.741158",
     "exception": false,
     "start_time": "2023-02-20T12:07:33.713444",
     "status": "completed"
    },
    "tags": []
   },
   "outputs": [
    {
     "name": "stderr",
     "output_type": "stream",
     "text": [
      "2023-02-20 12:07:41.719079: W tensorflow/stream_executor/platform/default/dso_loader.cc:64] Could not load dynamic library 'libcuda.so.1'; dlerror: libcuda.so.1: cannot open shared object file: No such file or directory; LD_LIBRARY_PATH: /usr/local/cuda/lib64:/usr/local/cuda/lib:/usr/local/lib/x86_64-linux-gnu:/usr/local/nvidia/lib:/usr/local/nvidia/lib64::/opt/conda/lib\n",
      "2023-02-20 12:07:41.719160: W tensorflow/stream_executor/cuda/cuda_driver.cc:269] failed call to cuInit: UNKNOWN ERROR (303)\n"
     ]
    },
    {
     "name": "stdout",
     "output_type": "stream",
     "text": [
      "Epoch 1/100\n",
      "20/20 [==============================] - 1s 2ms/step - loss: 0.6635 - accuracy: 0.6966\n",
      "Epoch 2/100\n",
      "20/20 [==============================] - 0s 2ms/step - loss: 0.6132 - accuracy: 0.7400\n",
      "Epoch 3/100\n",
      "20/20 [==============================] - 0s 2ms/step - loss: 0.5480 - accuracy: 0.7753\n",
      "Epoch 4/100\n",
      "20/20 [==============================] - 0s 2ms/step - loss: 0.4914 - accuracy: 0.7945\n",
      "Epoch 5/100\n",
      "20/20 [==============================] - 0s 2ms/step - loss: 0.4604 - accuracy: 0.8026\n",
      "Epoch 6/100\n",
      "20/20 [==============================] - 0s 2ms/step - loss: 0.4414 - accuracy: 0.8154\n",
      "Epoch 7/100\n",
      "20/20 [==============================] - 0s 2ms/step - loss: 0.4347 - accuracy: 0.8202\n",
      "Epoch 8/100\n",
      "20/20 [==============================] - 0s 2ms/step - loss: 0.4210 - accuracy: 0.8250\n",
      "Epoch 9/100\n",
      "20/20 [==============================] - 0s 2ms/step - loss: 0.4097 - accuracy: 0.8395\n",
      "Epoch 10/100\n",
      "20/20 [==============================] - 0s 2ms/step - loss: 0.4038 - accuracy: 0.8331\n",
      "Epoch 11/100\n",
      "20/20 [==============================] - 0s 2ms/step - loss: 0.3958 - accuracy: 0.8443\n",
      "Epoch 12/100\n",
      "20/20 [==============================] - 0s 2ms/step - loss: 0.3906 - accuracy: 0.8379\n",
      "Epoch 13/100\n",
      "20/20 [==============================] - 0s 2ms/step - loss: 0.3851 - accuracy: 0.8347\n",
      "Epoch 14/100\n",
      "20/20 [==============================] - 0s 2ms/step - loss: 0.3824 - accuracy: 0.8443\n",
      "Epoch 15/100\n",
      "20/20 [==============================] - 0s 2ms/step - loss: 0.3755 - accuracy: 0.8443\n",
      "Epoch 16/100\n",
      "20/20 [==============================] - 0s 2ms/step - loss: 0.3697 - accuracy: 0.8507\n",
      "Epoch 17/100\n",
      "20/20 [==============================] - 0s 2ms/step - loss: 0.3691 - accuracy: 0.8363\n",
      "Epoch 18/100\n",
      "20/20 [==============================] - 0s 14ms/step - loss: 0.3658 - accuracy: 0.8475\n",
      "Epoch 19/100\n",
      "20/20 [==============================] - 0s 2ms/step - loss: 0.3588 - accuracy: 0.8475\n",
      "Epoch 20/100\n",
      "20/20 [==============================] - 0s 2ms/step - loss: 0.3532 - accuracy: 0.8523\n",
      "Epoch 21/100\n",
      "20/20 [==============================] - 0s 2ms/step - loss: 0.3488 - accuracy: 0.8571\n",
      "Epoch 22/100\n",
      "20/20 [==============================] - 0s 2ms/step - loss: 0.3459 - accuracy: 0.8571\n",
      "Epoch 23/100\n",
      "20/20 [==============================] - 0s 2ms/step - loss: 0.3407 - accuracy: 0.8668\n",
      "Epoch 24/100\n",
      "20/20 [==============================] - 0s 2ms/step - loss: 0.3394 - accuracy: 0.8652\n",
      "Epoch 25/100\n",
      "20/20 [==============================] - 0s 2ms/step - loss: 0.3377 - accuracy: 0.8700\n",
      "Epoch 26/100\n",
      "20/20 [==============================] - 0s 2ms/step - loss: 0.3332 - accuracy: 0.8684\n",
      "Epoch 27/100\n",
      "20/20 [==============================] - 0s 2ms/step - loss: 0.3301 - accuracy: 0.8796\n",
      "Epoch 28/100\n",
      "20/20 [==============================] - 0s 2ms/step - loss: 0.3311 - accuracy: 0.8716\n",
      "Epoch 29/100\n",
      "20/20 [==============================] - 0s 2ms/step - loss: 0.3267 - accuracy: 0.8748\n",
      "Epoch 30/100\n",
      "20/20 [==============================] - 0s 2ms/step - loss: 0.3242 - accuracy: 0.8748\n",
      "Epoch 31/100\n",
      "20/20 [==============================] - 0s 2ms/step - loss: 0.3234 - accuracy: 0.8764\n",
      "Epoch 32/100\n",
      "20/20 [==============================] - 0s 2ms/step - loss: 0.3180 - accuracy: 0.8732\n",
      "Epoch 33/100\n",
      "20/20 [==============================] - 0s 2ms/step - loss: 0.3171 - accuracy: 0.8732\n",
      "Epoch 34/100\n",
      "20/20 [==============================] - 0s 2ms/step - loss: 0.3238 - accuracy: 0.8684\n",
      "Epoch 35/100\n",
      "20/20 [==============================] - 0s 2ms/step - loss: 0.3129 - accuracy: 0.8764\n",
      "Epoch 36/100\n",
      "20/20 [==============================] - 0s 2ms/step - loss: 0.3121 - accuracy: 0.8796\n",
      "Epoch 37/100\n",
      "20/20 [==============================] - 0s 2ms/step - loss: 0.3096 - accuracy: 0.8812\n",
      "Epoch 38/100\n",
      "20/20 [==============================] - 0s 2ms/step - loss: 0.3052 - accuracy: 0.8828\n",
      "Epoch 39/100\n",
      "20/20 [==============================] - 0s 2ms/step - loss: 0.3024 - accuracy: 0.8748\n",
      "Epoch 40/100\n",
      "20/20 [==============================] - 0s 2ms/step - loss: 0.3034 - accuracy: 0.8812\n",
      "Epoch 41/100\n",
      "20/20 [==============================] - 0s 2ms/step - loss: 0.3026 - accuracy: 0.8764\n",
      "Epoch 42/100\n",
      "20/20 [==============================] - 0s 2ms/step - loss: 0.3075 - accuracy: 0.8764\n",
      "Epoch 43/100\n",
      "20/20 [==============================] - 0s 2ms/step - loss: 0.2965 - accuracy: 0.8828\n",
      "Epoch 44/100\n",
      "20/20 [==============================] - 0s 2ms/step - loss: 0.2977 - accuracy: 0.8876\n",
      "Epoch 45/100\n",
      "20/20 [==============================] - 0s 2ms/step - loss: 0.2982 - accuracy: 0.8812\n",
      "Epoch 46/100\n",
      "20/20 [==============================] - 0s 2ms/step - loss: 0.2965 - accuracy: 0.8764\n",
      "Epoch 47/100\n",
      "20/20 [==============================] - 0s 2ms/step - loss: 0.2967 - accuracy: 0.8844\n",
      "Epoch 48/100\n",
      "20/20 [==============================] - 0s 2ms/step - loss: 0.2935 - accuracy: 0.8812\n",
      "Epoch 49/100\n",
      "20/20 [==============================] - 0s 2ms/step - loss: 0.2900 - accuracy: 0.8844\n",
      "Epoch 50/100\n",
      "20/20 [==============================] - 0s 2ms/step - loss: 0.2920 - accuracy: 0.8844\n",
      "Epoch 51/100\n",
      "20/20 [==============================] - 0s 2ms/step - loss: 0.2923 - accuracy: 0.8844\n",
      "Epoch 52/100\n",
      "20/20 [==============================] - 0s 2ms/step - loss: 0.2863 - accuracy: 0.8860\n",
      "Epoch 53/100\n",
      "20/20 [==============================] - 0s 2ms/step - loss: 0.2844 - accuracy: 0.8876\n",
      "Epoch 54/100\n",
      "20/20 [==============================] - 0s 2ms/step - loss: 0.2879 - accuracy: 0.8876\n",
      "Epoch 55/100\n",
      "20/20 [==============================] - 0s 2ms/step - loss: 0.2850 - accuracy: 0.8860\n",
      "Epoch 56/100\n",
      "20/20 [==============================] - 0s 2ms/step - loss: 0.2857 - accuracy: 0.8844\n",
      "Epoch 57/100\n",
      "20/20 [==============================] - 0s 2ms/step - loss: 0.2838 - accuracy: 0.8860\n",
      "Epoch 58/100\n",
      "20/20 [==============================] - 0s 2ms/step - loss: 0.2833 - accuracy: 0.8925\n",
      "Epoch 59/100\n",
      "20/20 [==============================] - 0s 2ms/step - loss: 0.2887 - accuracy: 0.8812\n",
      "Epoch 60/100\n",
      "20/20 [==============================] - 0s 2ms/step - loss: 0.2870 - accuracy: 0.8860\n",
      "Epoch 61/100\n",
      "20/20 [==============================] - 0s 2ms/step - loss: 0.2798 - accuracy: 0.8812\n",
      "Epoch 62/100\n",
      "20/20 [==============================] - 0s 2ms/step - loss: 0.2752 - accuracy: 0.8892\n",
      "Epoch 63/100\n",
      "20/20 [==============================] - 0s 2ms/step - loss: 0.2755 - accuracy: 0.8876\n",
      "Epoch 64/100\n",
      "20/20 [==============================] - 0s 2ms/step - loss: 0.2777 - accuracy: 0.8892\n",
      "Epoch 65/100\n",
      "20/20 [==============================] - 0s 2ms/step - loss: 0.2762 - accuracy: 0.8876\n",
      "Epoch 66/100\n",
      "20/20 [==============================] - 0s 2ms/step - loss: 0.2806 - accuracy: 0.8764\n",
      "Epoch 67/100\n",
      "20/20 [==============================] - 0s 2ms/step - loss: 0.2763 - accuracy: 0.8844\n",
      "Epoch 68/100\n",
      "20/20 [==============================] - 0s 2ms/step - loss: 0.2755 - accuracy: 0.8860\n",
      "Epoch 69/100\n",
      "20/20 [==============================] - 0s 2ms/step - loss: 0.2689 - accuracy: 0.8892\n",
      "Epoch 70/100\n",
      "20/20 [==============================] - 0s 2ms/step - loss: 0.2723 - accuracy: 0.8828\n",
      "Epoch 71/100\n",
      "20/20 [==============================] - 0s 2ms/step - loss: 0.2747 - accuracy: 0.8941\n",
      "Epoch 72/100\n",
      "20/20 [==============================] - 0s 2ms/step - loss: 0.2759 - accuracy: 0.8876\n",
      "Epoch 73/100\n",
      "20/20 [==============================] - 0s 2ms/step - loss: 0.2703 - accuracy: 0.8941\n",
      "Epoch 74/100\n",
      "20/20 [==============================] - 0s 2ms/step - loss: 0.2674 - accuracy: 0.8925\n",
      "Epoch 75/100\n",
      "20/20 [==============================] - 0s 2ms/step - loss: 0.2712 - accuracy: 0.8876\n",
      "Epoch 76/100\n",
      "20/20 [==============================] - 0s 2ms/step - loss: 0.2662 - accuracy: 0.8892\n",
      "Epoch 77/100\n",
      "20/20 [==============================] - 0s 2ms/step - loss: 0.2655 - accuracy: 0.8973\n",
      "Epoch 78/100\n",
      "20/20 [==============================] - 0s 2ms/step - loss: 0.2615 - accuracy: 0.8957\n",
      "Epoch 79/100\n",
      "20/20 [==============================] - 0s 2ms/step - loss: 0.2642 - accuracy: 0.8941\n",
      "Epoch 80/100\n",
      "20/20 [==============================] - 0s 2ms/step - loss: 0.2616 - accuracy: 0.8892\n",
      "Epoch 81/100\n",
      "20/20 [==============================] - 0s 2ms/step - loss: 0.2574 - accuracy: 0.8941\n",
      "Epoch 82/100\n",
      "20/20 [==============================] - 0s 2ms/step - loss: 0.2572 - accuracy: 0.8909\n",
      "Epoch 83/100\n",
      "20/20 [==============================] - 0s 2ms/step - loss: 0.2558 - accuracy: 0.9021\n",
      "Epoch 84/100\n",
      "20/20 [==============================] - 0s 2ms/step - loss: 0.2622 - accuracy: 0.8909\n",
      "Epoch 85/100\n",
      "20/20 [==============================] - 0s 2ms/step - loss: 0.2593 - accuracy: 0.8941\n",
      "Epoch 86/100\n",
      "20/20 [==============================] - 0s 2ms/step - loss: 0.2611 - accuracy: 0.8957\n",
      "Epoch 87/100\n",
      "20/20 [==============================] - 0s 2ms/step - loss: 0.2538 - accuracy: 0.8957\n",
      "Epoch 88/100\n",
      "20/20 [==============================] - 0s 2ms/step - loss: 0.2548 - accuracy: 0.8989\n",
      "Epoch 89/100\n",
      "20/20 [==============================] - 0s 2ms/step - loss: 0.2539 - accuracy: 0.8957\n",
      "Epoch 90/100\n",
      "20/20 [==============================] - 0s 2ms/step - loss: 0.2559 - accuracy: 0.8925\n",
      "Epoch 91/100\n",
      "20/20 [==============================] - 0s 2ms/step - loss: 0.2516 - accuracy: 0.8925\n",
      "Epoch 92/100\n",
      "20/20 [==============================] - 0s 2ms/step - loss: 0.2502 - accuracy: 0.8941\n",
      "Epoch 93/100\n",
      "20/20 [==============================] - 0s 2ms/step - loss: 0.2558 - accuracy: 0.8941\n",
      "Epoch 94/100\n",
      "20/20 [==============================] - 0s 2ms/step - loss: 0.2457 - accuracy: 0.8973\n",
      "Epoch 95/100\n",
      "20/20 [==============================] - 0s 2ms/step - loss: 0.2477 - accuracy: 0.8957\n",
      "Epoch 96/100\n",
      "20/20 [==============================] - 0s 2ms/step - loss: 0.2544 - accuracy: 0.8957\n",
      "Epoch 97/100\n",
      "20/20 [==============================] - 0s 2ms/step - loss: 0.2503 - accuracy: 0.8989\n",
      "Epoch 98/100\n",
      "20/20 [==============================] - 0s 2ms/step - loss: 0.2499 - accuracy: 0.8909\n",
      "Epoch 99/100\n",
      "20/20 [==============================] - 0s 2ms/step - loss: 0.2535 - accuracy: 0.8973\n",
      "Epoch 100/100\n",
      "20/20 [==============================] - 0s 2ms/step - loss: 0.2492 - accuracy: 0.8989\n"
     ]
    },
    {
     "data": {
      "text/plain": [
       "<keras.callbacks.History at 0x7fef6c5b94d0>"
      ]
     },
     "execution_count": 34,
     "metadata": {},
     "output_type": "execute_result"
    }
   ],
   "source": [
    "from sklearn.metrics import confusion_matrix , classification_report\n",
    "from tensorflow import keras\n",
    "model = keras.Sequential([\n",
    "        keras.layers.Dense(28, input_dim=18, activation='relu'),\n",
    "        keras.layers.Dense(15, activation='relu'),\n",
    "        keras.layers.Dense(15, activation='relu'),\n",
    "        keras.layers.Dense(15, activation='relu'),\n",
    "        keras.layers.Dense(15, activation='relu'),\n",
    "        keras.layers.Dense(1, activation='sigmoid')\n",
    "    ])\n",
    "\n",
    "model.compile(optimizer='adam', loss='binary_crossentropy', metrics=['accuracy'])\n",
    "\n",
    "\n",
    "model.fit(scaled_X_train,y_train, epochs=100)\n"
   ]
  },
  {
   "cell_type": "code",
   "execution_count": 35,
   "id": "711aca66",
   "metadata": {
    "execution": {
     "iopub.execute_input": "2023-02-20T12:07:47.807720Z",
     "iopub.status.busy": "2023-02-20T12:07:47.807330Z",
     "iopub.status.idle": "2023-02-20T12:07:47.978527Z",
     "shell.execute_reply": "2023-02-20T12:07:47.977296Z"
    },
    "papermill": {
     "duration": 0.207716,
     "end_time": "2023-02-20T12:07:47.981398",
     "exception": false,
     "start_time": "2023-02-20T12:07:47.773682",
     "status": "completed"
    },
    "tags": []
   },
   "outputs": [
    {
     "name": "stdout",
     "output_type": "stream",
     "text": [
      "14/14 [==============================] - 0s 1ms/step\n"
     ]
    }
   ],
   "source": [
    "y_val=model.predict(scaled_X_val)"
   ]
  },
  {
   "cell_type": "code",
   "execution_count": 36,
   "id": "1bb07392",
   "metadata": {
    "execution": {
     "iopub.execute_input": "2023-02-20T12:07:48.047663Z",
     "iopub.status.busy": "2023-02-20T12:07:48.047250Z",
     "iopub.status.idle": "2023-02-20T12:07:48.066311Z",
     "shell.execute_reply": "2023-02-20T12:07:48.065278Z"
    },
    "papermill": {
     "duration": 0.055165,
     "end_time": "2023-02-20T12:07:48.068952",
     "exception": false,
     "start_time": "2023-02-20T12:07:48.013787",
     "status": "completed"
    },
    "tags": []
   },
   "outputs": [],
   "source": [
    "df_submission=pd.read_csv(\"/kaggle/input/titanic/gender_submission.csv\")"
   ]
  },
  {
   "cell_type": "code",
   "execution_count": 37,
   "id": "bb027441",
   "metadata": {
    "execution": {
     "iopub.execute_input": "2023-02-20T12:07:48.136157Z",
     "iopub.status.busy": "2023-02-20T12:07:48.135088Z",
     "iopub.status.idle": "2023-02-20T12:07:48.144626Z",
     "shell.execute_reply": "2023-02-20T12:07:48.143712Z"
    },
    "papermill": {
     "duration": 0.045117,
     "end_time": "2023-02-20T12:07:48.146833",
     "exception": false,
     "start_time": "2023-02-20T12:07:48.101716",
     "status": "completed"
    },
    "tags": []
   },
   "outputs": [
    {
     "data": {
      "text/html": [
       "<div>\n",
       "<style scoped>\n",
       "    .dataframe tbody tr th:only-of-type {\n",
       "        vertical-align: middle;\n",
       "    }\n",
       "\n",
       "    .dataframe tbody tr th {\n",
       "        vertical-align: top;\n",
       "    }\n",
       "\n",
       "    .dataframe thead th {\n",
       "        text-align: right;\n",
       "    }\n",
       "</style>\n",
       "<table border=\"1\" class=\"dataframe\">\n",
       "  <thead>\n",
       "    <tr style=\"text-align: right;\">\n",
       "      <th></th>\n",
       "      <th>PassengerId</th>\n",
       "      <th>Survived</th>\n",
       "    </tr>\n",
       "  </thead>\n",
       "  <tbody>\n",
       "    <tr>\n",
       "      <th>0</th>\n",
       "      <td>892</td>\n",
       "      <td>0</td>\n",
       "    </tr>\n",
       "    <tr>\n",
       "      <th>1</th>\n",
       "      <td>893</td>\n",
       "      <td>1</td>\n",
       "    </tr>\n",
       "    <tr>\n",
       "      <th>2</th>\n",
       "      <td>894</td>\n",
       "      <td>0</td>\n",
       "    </tr>\n",
       "    <tr>\n",
       "      <th>3</th>\n",
       "      <td>895</td>\n",
       "      <td>0</td>\n",
       "    </tr>\n",
       "    <tr>\n",
       "      <th>4</th>\n",
       "      <td>896</td>\n",
       "      <td>1</td>\n",
       "    </tr>\n",
       "  </tbody>\n",
       "</table>\n",
       "</div>"
      ],
      "text/plain": [
       "   PassengerId  Survived\n",
       "0          892         0\n",
       "1          893         1\n",
       "2          894         0\n",
       "3          895         0\n",
       "4          896         1"
      ]
     },
     "execution_count": 37,
     "metadata": {},
     "output_type": "execute_result"
    }
   ],
   "source": [
    "df_submission.head()"
   ]
  },
  {
   "cell_type": "code",
   "execution_count": 38,
   "id": "14f529a0",
   "metadata": {
    "execution": {
     "iopub.execute_input": "2023-02-20T12:07:48.214475Z",
     "iopub.status.busy": "2023-02-20T12:07:48.213300Z",
     "iopub.status.idle": "2023-02-20T12:07:48.219567Z",
     "shell.execute_reply": "2023-02-20T12:07:48.218551Z"
    },
    "papermill": {
     "duration": 0.042064,
     "end_time": "2023-02-20T12:07:48.221850",
     "exception": false,
     "start_time": "2023-02-20T12:07:48.179786",
     "status": "completed"
    },
    "tags": []
   },
   "outputs": [],
   "source": [
    "y_pred = []\n",
    "for element in y_val:\n",
    "    if element > 0.5:\n",
    "        y_pred.append(1)\n",
    "    else:\n",
    "        y_pred.append(0)"
   ]
  },
  {
   "cell_type": "code",
   "execution_count": 39,
   "id": "e6a39c19",
   "metadata": {
    "execution": {
     "iopub.execute_input": "2023-02-20T12:07:48.288153Z",
     "iopub.status.busy": "2023-02-20T12:07:48.287720Z",
     "iopub.status.idle": "2023-02-20T12:07:48.296661Z",
     "shell.execute_reply": "2023-02-20T12:07:48.295736Z"
    },
    "papermill": {
     "duration": 0.044614,
     "end_time": "2023-02-20T12:07:48.298794",
     "exception": false,
     "start_time": "2023-02-20T12:07:48.254180",
     "status": "completed"
    },
    "tags": []
   },
   "outputs": [],
   "source": [
    "df_submission=pd.DataFrame()\n",
    "df_submission['Survived']=y_pred\n",
    "df_submission['PassengerId']=df_test1['PassengerId']"
   ]
  },
  {
   "cell_type": "code",
   "execution_count": 40,
   "id": "86739762",
   "metadata": {
    "execution": {
     "iopub.execute_input": "2023-02-20T12:07:48.367166Z",
     "iopub.status.busy": "2023-02-20T12:07:48.366203Z",
     "iopub.status.idle": "2023-02-20T12:07:48.376490Z",
     "shell.execute_reply": "2023-02-20T12:07:48.375466Z"
    },
    "papermill": {
     "duration": 0.047309,
     "end_time": "2023-02-20T12:07:48.378704",
     "exception": false,
     "start_time": "2023-02-20T12:07:48.331395",
     "status": "completed"
    },
    "tags": []
   },
   "outputs": [
    {
     "data": {
      "text/html": [
       "<div>\n",
       "<style scoped>\n",
       "    .dataframe tbody tr th:only-of-type {\n",
       "        vertical-align: middle;\n",
       "    }\n",
       "\n",
       "    .dataframe tbody tr th {\n",
       "        vertical-align: top;\n",
       "    }\n",
       "\n",
       "    .dataframe thead th {\n",
       "        text-align: right;\n",
       "    }\n",
       "</style>\n",
       "<table border=\"1\" class=\"dataframe\">\n",
       "  <thead>\n",
       "    <tr style=\"text-align: right;\">\n",
       "      <th></th>\n",
       "      <th>Survived</th>\n",
       "      <th>PassengerId</th>\n",
       "    </tr>\n",
       "  </thead>\n",
       "  <tbody>\n",
       "    <tr>\n",
       "      <th>0</th>\n",
       "      <td>0</td>\n",
       "      <td>892</td>\n",
       "    </tr>\n",
       "    <tr>\n",
       "      <th>1</th>\n",
       "      <td>0</td>\n",
       "      <td>893</td>\n",
       "    </tr>\n",
       "    <tr>\n",
       "      <th>2</th>\n",
       "      <td>0</td>\n",
       "      <td>894</td>\n",
       "    </tr>\n",
       "    <tr>\n",
       "      <th>3</th>\n",
       "      <td>0</td>\n",
       "      <td>895</td>\n",
       "    </tr>\n",
       "    <tr>\n",
       "      <th>4</th>\n",
       "      <td>0</td>\n",
       "      <td>896</td>\n",
       "    </tr>\n",
       "  </tbody>\n",
       "</table>\n",
       "</div>"
      ],
      "text/plain": [
       "   Survived  PassengerId\n",
       "0         0          892\n",
       "1         0          893\n",
       "2         0          894\n",
       "3         0          895\n",
       "4         0          896"
      ]
     },
     "execution_count": 40,
     "metadata": {},
     "output_type": "execute_result"
    }
   ],
   "source": [
    "df_submission.head()"
   ]
  },
  {
   "cell_type": "code",
   "execution_count": 41,
   "id": "4bb5844d",
   "metadata": {
    "execution": {
     "iopub.execute_input": "2023-02-20T12:07:48.446471Z",
     "iopub.status.busy": "2023-02-20T12:07:48.445404Z",
     "iopub.status.idle": "2023-02-20T12:07:48.453644Z",
     "shell.execute_reply": "2023-02-20T12:07:48.452632Z"
    },
    "papermill": {
     "duration": 0.044323,
     "end_time": "2023-02-20T12:07:48.456019",
     "exception": false,
     "start_time": "2023-02-20T12:07:48.411696",
     "status": "completed"
    },
    "tags": []
   },
   "outputs": [],
   "source": [
    "df_submission.to_csv(\"submission.csv\",index=False)"
   ]
  },
  {
   "cell_type": "code",
   "execution_count": null,
   "id": "4c13cd44",
   "metadata": {
    "papermill": {
     "duration": 0.032287,
     "end_time": "2023-02-20T12:07:48.521273",
     "exception": false,
     "start_time": "2023-02-20T12:07:48.488986",
     "status": "completed"
    },
    "tags": []
   },
   "outputs": [],
   "source": []
  }
 ],
 "metadata": {
  "kernelspec": {
   "display_name": "Python 3",
   "language": "python",
   "name": "python3"
  },
  "language_info": {
   "codemirror_mode": {
    "name": "ipython",
    "version": 3
   },
   "file_extension": ".py",
   "mimetype": "text/x-python",
   "name": "python",
   "nbconvert_exporter": "python",
   "pygments_lexer": "ipython3",
   "version": "3.7.12"
  },
  "papermill": {
   "default_parameters": {},
   "duration": 29.24125,
   "end_time": "2023-02-20T12:07:51.366309",
   "environment_variables": {},
   "exception": null,
   "input_path": "__notebook__.ipynb",
   "output_path": "__notebook__.ipynb",
   "parameters": {},
   "start_time": "2023-02-20T12:07:22.125059",
   "version": "2.3.4"
  }
 },
 "nbformat": 4,
 "nbformat_minor": 5
}
